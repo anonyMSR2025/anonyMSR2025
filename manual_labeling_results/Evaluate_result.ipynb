{
 "cells": [
  {
   "cell_type": "code",
   "execution_count": null,
   "metadata": {},
   "outputs": [],
   "source": [
    "import pandas as pd"
   ]
  },
  {
   "cell_type": "code",
   "execution_count": null,
   "metadata": {},
   "outputs": [],
   "source": [
    "# evaluate \n",
    "EXPERIMENT = 2 # [1, 2]\n",
    "# experiment 1 two-choice and 2 annotators\n",
    "# experiment 2 four-choice and3 annotators\n",
    "\n",
    "\n",
    "ANNOTATOR = '0'  # ['2', '1', '0', 'all']"
   ]
  },
  {
   "cell_type": "code",
   "execution_count": null,
   "metadata": {},
   "outputs": [],
   "source": [
    "def read_file(file_path: str):\n",
    "    if file_path.endswith('.xlsx'):\n",
    "        df = pd.read_excel(file_path)\n",
    "    elif file_path.endswith('.csv'):\n",
    "        df = pd.read_csv(file_path, header=0)\n",
    "    else:\n",
    "        raise ValueError(f'unsupported file: {file_path}')\n",
    "    return df"
   ]
  },
  {
   "cell_type": "code",
   "execution_count": null,
   "metadata": {},
   "outputs": [],
   "source": [
    "if ANNOTATOR == '1':\n",
    "    df = read_file(f'./Annotator_1_exp{EXPERIMENT}.csv')\n",
    "elif ANNOTATOR == '0':\n",
    "    df = read_file(f'./Annotator_0_exp{EXPERIMENT}.csv')\n",
    "elif ANNOTATOR == '2' and EXPERIMENT == 1:\n",
    "    df = read_file(f'./Annotator_2_exp{EXPERIMENT}.csv')\n",
    "elif ANNOTATOR == 'all':\n",
    "    if EXPERIMENT == 0:\n",
    "        df1 = read_file(f'./Annotator_1_exp{EXPERIMENT}.csv')\n",
    "        df1['annotator'] = 1\n",
    "        df0 = read_file(f'./Annotator_0_exp{EXPERIMENT}.csv')\n",
    "        df0['annotator'] = 0\n",
    "        df = pd.concat([df1, df0])\n",
    "    elif EXPERIMENT == 1:\n",
    "        df1 = read_file(f'./Annotator_1_exp{EXPERIMENT}.csv')\n",
    "        df1['annotator'] = 1\n",
    "        df0 = read_file(f'./Annotator_0_exp{EXPERIMENT}.csv')\n",
    "        df0['annotator'] = 0\n",
    "        df2 = read_file(f'./Annotator_2_exp{EXPERIMENT}.csv')\n",
    "        df2['annotator'] = 2\n",
    "        df = pd.concat([df1, df0, df2])\n"
   ]
  },
  {
   "cell_type": "code",
   "execution_count": null,
   "metadata": {},
   "outputs": [],
   "source": [
    "# remove empty rows, which are created for formatting\n",
    "df_filtered = df[~df['commit_url'].isna()]  \n",
    "print(f'count: {len(df_filtered)}')"
   ]
  },
  {
   "cell_type": "code",
   "execution_count": null,
   "metadata": {},
   "outputs": [],
   "source": [
    "# keep dataset only gt label is 1\n",
    "# if not, we will overestimate the accuracy on the four-choice task\n",
    "df_filtered['true_label'] = df_filtered['true_label'].astype(int)\n",
    "df_filtered = df_filtered[df_filtered['true_label'] == 1]\n",
    "print(f'count agter keep only gt label == 1: {len(df_filtered)}')  # evaluate the number of rows after filtering"
   ]
  },
  {
   "cell_type": "code",
   "execution_count": null,
   "metadata": {},
   "outputs": [],
   "source": [
    "# stats of different methods assigned to this annotator\n",
    "print('stats of different methods')\n",
    "print(df_filtered['method'].value_counts())"
   ]
  },
  {
   "cell_type": "code",
   "execution_count": null,
   "metadata": {},
   "outputs": [],
   "source": [
    "if 'is_patch(codeonly)' in df_filtered.columns:\n",
    "    df_filtered['right(codeonly)'] = df_filtered['is_patch(codeonly)'] == df_filtered['true_label']\n",
    "df_filtered['right'] = df_filtered['is_patch'] == df_filtered['true_label']"
   ]
  },
  {
   "cell_type": "code",
   "execution_count": null,
   "metadata": {},
   "outputs": [],
   "source": [
    "def filter_change_log(df):\n",
    "    # print(f'len before filtering: {len(df)}')\n",
    "    df['contain_changelog'] = df.apply(contain_changelog, axis=1)\n",
    "    filtered_rows = []\n",
    "    for i in range(int(len(df)/2)):\n",
    "        row_1 = df.iloc[2*i]\n",
    "        row_2 = df.iloc[2*i+1]\n",
    "        if not row_1['contain_changelog'] and not row_2['contain_changelog']:\n",
    "            filtered_rows.append(row_1)\n",
    "            filtered_rows.append(row_2)\n",
    "    output_df =  pd.DataFrame(filtered_rows)\n",
    "    # print(f'len after filtering: {len(output_df)}')\n",
    "    return output_df\n",
    "\n",
    "# filter_change_log = lambda x: x\n",
    "    \n",
    "def contain_changelog(row):\n",
    "    if 'changelog' in row['commit_msg_text'].lower() or 'changelog' in row['code_text'].lower():\n",
    "        return True\n",
    "    else:\n",
    "        return False"
   ]
  },
  {
   "cell_type": "code",
   "execution_count": null,
   "metadata": {},
   "outputs": [],
   "source": [
    "if 'is_patch(codeonly)' in df_filtered.columns:\n",
    "    print('Accuracy codeonly only')\n",
    "\n",
    "    total_accuracy = df_filtered['right(codeonly)'].sum() / len(df_filtered)\n",
    "    print(f'Total accuracy: {total_accuracy}')\n",
    "\n",
    "    if ANNOTATOR != 'total':\n",
    "        anno_tfidf_part = df_filtered[df_filtered['method'] == 'tfidf'] \n",
    "        anno_lime_part = df_filtered[df_filtered['method'] == 'lime']\n",
    "        anno_non_highlight_part = df_filtered[df_filtered['method'] == 'none']\n",
    "    else:\n",
    "        df_filtered1 = pd.concat([df_filtered, df_filtered])\n",
    "        anno_tfidf_part = df_filtered1[df_filtered1['method'] == 'tfidf']\n",
    "        anno_lime_part = df_filtered1[df_filtered1['method'] == 'lime']\n",
    "        anno_non_highlight_part = df_filtered[df_filtered['method'] == 'none']\n",
    "        \n",
    "        \n",
    "    print(f'tfidf accuracy: {anno_tfidf_part[\"right(codeonly)\"].sum() / len(anno_tfidf_part): .4f}, {anno_tfidf_part[\"right(codeonly)\"].sum()}/{len(anno_tfidf_part)}')\n",
    "    print(f'lime accuracy: {anno_lime_part[\"right(codeonly)\"].sum() / len(anno_lime_part): .4f}, {anno_lime_part[\"right(codeonly)\"].sum()}/{len(anno_lime_part)}')\n",
    "    print(f'non_highlight accuracy: {anno_non_highlight_part[\"right(codeonly)\"].sum() / len(anno_non_highlight_part): .4f}, {anno_non_highlight_part[\"right(codeonly)\"].sum()}/{len(anno_non_highlight_part)}')"
   ]
  },
  {
   "cell_type": "code",
   "execution_count": null,
   "metadata": {},
   "outputs": [],
   "source": [
    "print('Accuracy all')\n",
    "\n",
    "total_accuracy = df_filtered['right'].sum() / len(df_filtered)\n",
    "print(f'Total accuracy: {total_accuracy}')\n",
    "\n",
    "if ANNOTATOR != 'total':\n",
    "    anno_tfidf_part = df_filtered[df_filtered['method'] == 'tfidf']\n",
    "    anno_lime_part = df_filtered[df_filtered['method'] == 'lime']\n",
    "    anno_non_highlight_part = df_filtered[df_filtered['method'] == 'none']\n",
    "else:\n",
    "    df_filtered1 = pd.concat([df_filtered, df_filtered])\n",
    "    anno_tfidf_part = df_filtered1[df_filtered1['method'] == 'tfidf']\n",
    "    anno_lime_part = df_filtered1[df_filtered1['method'] == 'lime']\n",
    "    anno_non_highlight_part = df_filtered[df_filtered['method'] == 'none']                        \n",
    "\n",
    "    \n",
    "print(f'tfidf accuracy: {anno_tfidf_part[\"right\"].sum() / len(anno_tfidf_part): .4f}, {anno_tfidf_part[\"right\"].sum()}/{len(anno_tfidf_part)}')\n",
    "print(f'lime accuracy: {anno_lime_part[\"right\"].sum() / len(anno_lime_part): .4f}, {anno_lime_part[\"right\"].sum()}/{len(anno_lime_part)}')\n",
    "print(f'non_highlight accuracy: {anno_non_highlight_part[\"right\"].sum() / len(anno_non_highlight_part): .4f}, {anno_non_highlight_part[\"right\"].sum()}/{len(anno_non_highlight_part)}')"
   ]
  },
  {
   "cell_type": "code",
   "execution_count": null,
   "metadata": {},
   "outputs": [],
   "source": [
    "if 'helpfulness (1 - 3, 3 is most helpful)' in df_filtered.columns:\n",
    "    print('helpfulness')  # no annatation\n",
    "    if ANNOTATOR != 'total':\n",
    "        helpfulness_filtered = df_filtered[df_filtered['is_patch'] == 1 & df_filtered['right']]\n",
    "    else:\n",
    "        df_filtered1 = pd.concat([df_filtered, df_filtered])\n",
    "        helpfulness_filtered = df_filtered1[(df_filtered1['is_patch'] == 1) & (df_filtered1['right'])]\n",
    "        \n",
    "    helpfulness_filtered = filter_change_log(helpfulness_filtered)\n",
    "\n",
    "    helpfulness_filtered_tfidf_part = helpfulness_filtered[helpfulness_filtered['method'] == 'tfidf']\n",
    "    helpfulness_filtered_lime_part = helpfulness_filtered[helpfulness_filtered['method'] == 'lime']\n",
    "\n",
    "    print(f'total helpfulness: {helpfulness_filtered[\"helpfulness (1 - 3, 3 is most helpful)\"].mean()}')\n",
    "    print(f'tfidf helpfulness: {helpfulness_filtered_tfidf_part[\"helpfulness (1 - 3, 3 is most helpful)\"].mean()}')\n",
    "    print(f'lime helpfulness: {helpfulness_filtered_lime_part[\"helpfulness (1 - 3, 3 is most helpful)\"].mean()}')\n"
   ]
  }
 ],
 "metadata": {
  "kernelspec": {
   "display_name": "xyc39",
   "language": "python",
   "name": "python3"
  },
  "language_info": {
   "codemirror_mode": {
    "name": "ipython",
    "version": 3
   },
   "file_extension": ".py",
   "mimetype": "text/x-python",
   "name": "python",
   "nbconvert_exporter": "python",
   "pygments_lexer": "ipython3",
   "version": "3.9.19"
  }
 },
 "nbformat": 4,
 "nbformat_minor": 2
}
